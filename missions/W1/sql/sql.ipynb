{
 "cells": [
  {
   "metadata": {},
   "cell_type": "code",
   "source": [
    "import sqlite3\n",
    "\n",
    "import csv\n",
    "\n",
    "db_name = 'my.db'\n",
    "\n",
    "\n",
    "def create_sqlite_database(filename):\n",
    "    \"\"\" create a database connection to an SQLite database \"\"\"\n",
    "    conn = None\n",
    "    try:\n",
    "        conn = sqlite3.connect(filename)\n",
    "        print(sqlite3.sqlite_version)\n",
    "    except sqlite3.Error as e:\n",
    "        print(e)\n",
    "    finally:\n",
    "        if conn:\n",
    "            conn.close()\n",
    "\n",
    "\n",
    "def create_tables():\n",
    "    sql_statements = [\n",
    "        \"DROP TABLE IF EXISTS Customers\",\n",
    "        \"DROP TABLE IF EXISTS Products\",\n",
    "        \"DROP TABLE IF EXISTS OrderDetails\",\n",
    "        \"DROP TABLE IF EXISTS Orders\",\n",
    "        \"DROP TABLE IF EXISTS Categories\",\n",
    "        \"DROP TABLE IF EXISTS Employees\",\n",
    "        \"DROP TABLE IF EXISTS Shippers\",\n",
    "        \"DROP TABLE IF EXISTS Suppliers\",\n",
    "        \"\"\"\n",
    "        CREATE TABLE IF NOT EXISTS Customers (\n",
    "                CustomerID INTEGER PRIMARY KEY, \n",
    "                CustomerName TEXT , \n",
    "                ContactName TEXT, \n",
    "                Address TEXT,\n",
    "                City TEXT,\n",
    "                PostalCode TEXT,\n",
    "                Country TEXT\n",
    "        );\"\"\",\n",
    "        \"\"\"\n",
    "        CREATE TABLE IF NOT EXISTS Products (\n",
    "                ProductID INTEGER PRIMARY KEY, \n",
    "                ProductName TEXT , \n",
    "                SupplierID INTEGER, \n",
    "                CategoryID INTEGER,\n",
    "                Unit TEXT,\n",
    "                Price FLOAT\n",
    "        );\"\"\",\n",
    "        \"\"\"\n",
    "        CREATE TABLE IF NOT EXISTS OrderDetails (\n",
    "                OrderDetailID INTEGER PRIMARY KEY, \n",
    "                OrderID INTEGER, \n",
    "                ProductID INTEGER, \n",
    "                Quantity INTEGER\n",
    "        );\"\"\",\n",
    "        \"\"\"\n",
    "        CREATE TABLE IF NOT EXISTS Orders (\n",
    "                OrderID INTEGER PRIMARY KEY, \n",
    "                CustomerID INTEGER, \n",
    "                EmployeeID INTEGER , \n",
    "                OrderDate DATETIME, \n",
    "                ShipperID INTEGER\n",
    "        );\"\"\",\n",
    "        \"\"\"\n",
    "        CREATE TABLE IF NOT EXISTS Categories (\n",
    "                CategoryID INTEGER PRIMARY KEY, \n",
    "                CategoryName TEXT, \n",
    "                Description TEXT\n",
    "        );\"\"\",\n",
    "        \"\"\"\n",
    "        CREATE TABLE IF NOT EXISTS Employees (\n",
    "                EmployeeID INTEGER PRIMARY KEY, \n",
    "                LastName TEXT, \n",
    "                FirstName TEXT, \n",
    "                BirthDate TEXT, \n",
    "                Photo TEXT, \n",
    "                Notes TEXT\n",
    "        );\"\"\",\n",
    "        \"\"\"\n",
    "        CREATE TABLE IF NOT EXISTS Shippers (\n",
    "                ShipperID INTEGER PRIMARY KEY, \n",
    "                ShipperName TEXT, \n",
    "                Phone TEXT\n",
    "        );\"\"\",\n",
    "        \"\"\"\n",
    "        CREATE TABLE IF NOT EXISTS Suppliers (\n",
    "                SupplierID INTEGER PRIMARY KEY, \n",
    "                SupplierName TEXT, \n",
    "                ContactName TEXT, \n",
    "                Address TEXT, \n",
    "                City TEXT, \n",
    "                PostalCode TEXT,\n",
    "                Country TEXT,\n",
    "                Phone TEXT\n",
    "        );\"\"\"]\n",
    "\n",
    "    # create a database connection\n",
    "    try:\n",
    "        with sqlite3.connect(db_name) as conn:\n",
    "            cursor = conn.cursor()\n",
    "            for statement in sql_statements:\n",
    "                cursor.execute(statement)\n",
    "            conn.commit()\n",
    "    except sqlite3.Error as e:\n",
    "        print(e)\n",
    "\n",
    "\n",
    "def main():\n",
    "    try:\n",
    "        with sqlite3.connect(db_name) as con:\n",
    "            #csv 파일 읽기 및 데이터베이스에 삽입\n",
    "            with open('./csv/customers.csv', 'r') as file:\n",
    "                csv_data = csv.reader(file)\n",
    "                next(csv_data)  # 첫번째 행은 헤더이므로 건너뜀\n",
    "                for customer in csv_data:\n",
    "                    cur = con.cursor()\n",
    "                    cur.execute('''\n",
    "                    INSERT INTO Customers(CustomerName,ContactName,Address,City,PostalCode,Country) VALUES(?,?,?,?,?,?) ''',\n",
    "                                customer[1:])\n",
    "                #변경사항 저장 및 연결 종료\n",
    "                con.commit()\n",
    "        with sqlite3.connect(db_name) as con:\n",
    "            with open('./csv/products.csv', 'r') as file:\n",
    "                csv_data = csv.reader(file)\n",
    "                next(csv_data)  # 첫번째 행은 헤더이므로 건너뜀\n",
    "                for product in csv_data:\n",
    "                    cur = con.cursor()\n",
    "                    cur.execute('''\n",
    "                    INSERT INTO Products(ProductName,SupplierID,CategoryID,Unit,Price) VALUES(?,?,?,?,?) ''',\n",
    "                                product[1:])\n",
    "                #변경사항 저장 및 연결 종료\n",
    "                con.commit()\n",
    "        with sqlite3.connect(db_name) as con:\n",
    "            with open('./csv/orderDetails.csv', 'r') as file:\n",
    "                csv_data = csv.reader(file)\n",
    "                next(csv_data)  # 첫번째 행은 헤더이므로 건너뜀\n",
    "                for order_detail in csv_data:\n",
    "                    cur = con.cursor()\n",
    "                    cur.execute('''\n",
    "                    INSERT INTO OrderDetails(OrderID,ProductID,Quantity) VALUES(?,?,?) ''', order_detail[1:])\n",
    "                #변경사항 저장 및 연결 종료\n",
    "                con.commit()\n",
    "        with sqlite3.connect(db_name) as con:\n",
    "            with open('./csv/orders.csv', 'r') as file:\n",
    "                csv_data = csv.reader(file)\n",
    "                next(csv_data)  # 첫번째 행은 헤더이므로 건너뜀\n",
    "                for order in csv_data:\n",
    "                    cur = con.cursor()\n",
    "                    cur.execute('''\n",
    "                    INSERT INTO Orders(OrderID,CustomerID,EmployeeID,OrderDate,ShipperID) VALUES(?,?,?,?,?) ''', order)\n",
    "                #변경사항 저장 및 연결 종료\n",
    "                con.commit()\n",
    "        with sqlite3.connect(db_name) as con:\n",
    "            with open('./csv/categories.csv', 'r') as file:\n",
    "                csv_data = csv.reader(file)\n",
    "                next(csv_data)  # 첫번째 행은 헤더이므로 건너뜀\n",
    "                for category in csv_data:\n",
    "                    cur = con.cursor()\n",
    "                    cur.execute('''\n",
    "                    INSERT INTO Categories(CategoryName,Description) VALUES(?,?) ''',\n",
    "                                category[1:])\n",
    "                #변경사항 저장 및 연결 종료\n",
    "                con.commit()\n",
    "        with sqlite3.connect(db_name) as con:\n",
    "            with open('./csv/employees.csv', 'r') as file:\n",
    "                csv_data = csv.reader(file)\n",
    "                next(csv_data)  # 첫번째 행은 헤더이므로 건너뜀\n",
    "                for employee in csv_data:\n",
    "                    cur = con.cursor()\n",
    "                    cur.execute('''\n",
    "                    INSERT INTO Employees(LastName,FirstName,BirthDate,Photo,Notes) VALUES(?,?,?,?,?) ''',\n",
    "                                employee[1:])\n",
    "                #변경사항 저장 및 연결 종료\n",
    "                con.commit()\n",
    "        with sqlite3.connect(db_name) as con:\n",
    "            with open('./csv/shippers.csv', 'r') as file:\n",
    "                csv_data = csv.reader(file)\n",
    "                next(csv_data)  # 첫번째 행은 헤더이므로 건너뜀\n",
    "                for shipper in csv_data:\n",
    "                    cur = con.cursor()\n",
    "                    cur.execute('''\n",
    "                    INSERT INTO Shippers(ShipperName,Phone) VALUES(?,?) ''',\n",
    "                                shipper[1:])\n",
    "                #변경사항 저장 및 연결 종료\n",
    "                con.commit()\n",
    "        with sqlite3.connect(db_name) as con:\n",
    "            with open('./csv/suppliers.csv', 'r') as file:\n",
    "                csv_data = csv.reader(file)\n",
    "                next(csv_data)  # 첫번째 행은 헤더이므로 건너뜀\n",
    "                for supplier in csv_data:\n",
    "                    cur = con.cursor()\n",
    "                    cur.execute('''\n",
    "                    INSERT INTO Suppliers(SupplierName,ContactName,Address,City,PostalCode,Country,Phone) VALUES(?,?,?,?,?,?,?) ''',\n",
    "                                supplier[1:])\n",
    "                #변경사항 저장 및 연결 종료\n",
    "                con.commit()\n",
    "    except sqlite3.Error as e:\n",
    "        print(e)\n",
    "\n",
    "\n",
    "if __name__ == '__main__':\n",
    "    create_sqlite_database(db_name)\n",
    "    create_tables()\n",
    "    main()\n"
   ],
   "id": "467d763a87c309d2",
   "outputs": [],
   "execution_count": null
  },
  {
   "metadata": {},
   "cell_type": "code",
   "source": [
    "def select_query(query):\n",
    "    try:\n",
    "        with sqlite3.connect(db_name) as conn:\n",
    "            cur = conn.cursor()\n",
    "            cur.execute(query)\n",
    "            row = cur.fetchall()\n",
    "            return row\n",
    "    except sqlite3.Error as e:\n",
    "        print(e)\n",
    "        return None\n"
   ],
   "id": "e8ca22c4f9d44afd",
   "outputs": [],
   "execution_count": null
  },
  {
   "metadata": {},
   "cell_type": "code",
   "source": [
    "\n",
    "print(select_query('SELECT CustomerName, City FROM Customers;'))"
   ],
   "id": "7b1b711cad344569",
   "outputs": [],
   "execution_count": null
  },
  {
   "metadata": {},
   "cell_type": "code",
   "source": "print(select_query('SELECT * FROM Customers;'))",
   "id": "d9f449732560ac9d",
   "outputs": [],
   "execution_count": null
  },
  {
   "metadata": {},
   "cell_type": "code",
   "source": "print(select_query('SELECT DISTINCT Country FROM Customers;'))",
   "id": "e66e0f6b56998c41",
   "outputs": [],
   "execution_count": null
  },
  {
   "metadata": {},
   "cell_type": "code",
   "source": "print(select_query('SELECT COUNT(DISTINCT Country) FROM Customers;'))",
   "id": "1190d6242c2a5516",
   "outputs": [],
   "execution_count": null
  },
  {
   "metadata": {},
   "cell_type": "code",
   "source": [
    "print(select_query(\"\"\"\n",
    "SELECT * FROM Customers\n",
    "WHERE Country='Mexico';\n",
    "\"\"\"))\n"
   ],
   "id": "3606e26bb24cabe1",
   "outputs": [],
   "execution_count": null
  },
  {
   "metadata": {},
   "cell_type": "code",
   "source": [
    "print(select_query(\"\"\"\n",
    "SELECT * FROM Customers\n",
    "WHERE CustomerID=1;\n",
    "\"\"\"))\n"
   ],
   "id": "5351ab2fca5219c5",
   "outputs": [],
   "execution_count": null
  },
  {
   "metadata": {},
   "cell_type": "code",
   "source": [
    "print(select_query(\"\"\"\n",
    "SELECT * FROM Customers\n",
    "WHERE CustomerID > 80;\n",
    "\"\"\"))"
   ],
   "id": "de0dd0f93d766fe5",
   "outputs": [],
   "execution_count": null
  },
  {
   "metadata": {},
   "cell_type": "code",
   "source": [
    "print(select_query(\"\"\"\n",
    "SELECT * FROM Products\n",
    "ORDER BY Price;\n",
    "\"\"\"))"
   ],
   "id": "d3c0ee640df7347f",
   "outputs": [],
   "execution_count": null
  },
  {
   "metadata": {},
   "cell_type": "code",
   "source": [
    "print(select_query(\"\"\"\n",
    "SELECT * FROM Products\n",
    "ORDER BY Price DESC;\n",
    "\"\"\"))"
   ],
   "id": "b9ed8bb001bdd205",
   "outputs": [],
   "execution_count": null
  },
  {
   "metadata": {},
   "cell_type": "code",
   "source": [
    "print(select_query(\"\"\"\n",
    "SELECT * FROM Products\n",
    "ORDER BY ProductName;\n",
    "\"\"\"))"
   ],
   "id": "47992a8cb7be9df4",
   "outputs": [],
   "execution_count": null
  },
  {
   "metadata": {},
   "cell_type": "code",
   "source": [
    "print(select_query(\"\"\"\n",
    "SELECT * FROM Products\n",
    "ORDER BY ProductName DESC;\n",
    "\"\"\"))"
   ],
   "id": "95a3b3b1b938f2ae",
   "outputs": [],
   "execution_count": null
  },
  {
   "metadata": {},
   "cell_type": "code",
   "source": [
    "print(select_query(\"\"\"\n",
    "SELECT * FROM Customers\n",
    "ORDER BY Country, CustomerName;\n",
    "\"\"\"))"
   ],
   "id": "28581c82c4a2f4f8",
   "outputs": [],
   "execution_count": null
  },
  {
   "metadata": {},
   "cell_type": "code",
   "source": [
    "print(select_query(\"\"\"\n",
    "SELECT * FROM Customers\n",
    "ORDER BY Country ASC, CustomerName DESC;\n",
    "\"\"\"))"
   ],
   "id": "98ccb92c71a59375",
   "outputs": [],
   "execution_count": null
  },
  {
   "metadata": {},
   "cell_type": "code",
   "source": [
    "print(select_query(\"\"\"\n",
    "SELECT *\n",
    "FROM Customers\n",
    "WHERE Country = 'Spain' AND CustomerName LIKE 'G%';\n",
    "\"\"\"))"
   ],
   "id": "87d39eb45c50b0a",
   "outputs": [],
   "execution_count": null
  },
  {
   "metadata": {},
   "cell_type": "code",
   "source": [
    "print(select_query(\"\"\"\n",
    "SELECT * FROM Customers\n",
    "WHERE Country = 'Germany'\n",
    "AND City = 'Berlin'\n",
    "AND PostalCode > 12000;\n",
    "\"\"\"))"
   ],
   "id": "cb0fee9d73678557",
   "outputs": [],
   "execution_count": null
  },
  {
   "metadata": {},
   "cell_type": "code",
   "source": [
    "print(select_query(\"\"\"\n",
    "SELECT * FROM Customers\n",
    "WHERE Country = 'Spain' AND (CustomerName LIKE 'G%' OR CustomerName LIKE 'R%');\n",
    "\"\"\"))"
   ],
   "id": "160a946117fa582e",
   "outputs": [],
   "execution_count": null
  },
  {
   "metadata": {},
   "cell_type": "code",
   "source": [
    "print(select_query(\"\"\"\n",
    "SELECT * FROM Customers\n",
    "WHERE Country = 'Spain' AND CustomerName LIKE 'G%' OR CustomerName LIKE 'R%';\n",
    "\"\"\"))"
   ],
   "id": "554db3e0802afbff",
   "outputs": [],
   "execution_count": null
  },
  {
   "metadata": {},
   "cell_type": "code",
   "source": [
    "print(select_query(\"\"\"\n",
    "SELECT *\n",
    "FROM Customers\n",
    "WHERE Country = 'Germany' OR Country = 'Spain';\n",
    "\"\"\"))"
   ],
   "id": "c94b01081846940e",
   "outputs": [],
   "execution_count": null
  },
  {
   "metadata": {},
   "cell_type": "code",
   "source": [
    "print(select_query(\"\"\"\n",
    "SELECT * FROM Customers\n",
    "WHERE City = 'Berlin' OR CustomerName LIKE 'G%' OR Country = 'Norway';\n",
    "\"\"\"))"
   ],
   "id": "16f35deca2943fb5",
   "outputs": [],
   "execution_count": null
  },
  {
   "metadata": {},
   "cell_type": "code",
   "source": [
    "print(select_query(\"\"\"\n",
    "SELECT * FROM Customers\n",
    "WHERE Country = 'Spain' AND (CustomerName LIKE 'G%' OR CustomerName LIKE 'R%');\n",
    "\"\"\"))"
   ],
   "id": "ea7ee760ac9a1d97",
   "outputs": [],
   "execution_count": null
  },
  {
   "metadata": {},
   "cell_type": "code",
   "source": [
    "print(select_query(\"\"\"\n",
    "SELECT * FROM Customers\n",
    "WHERE Country = 'Spain' AND CustomerName LIKE 'G%' OR CustomerName LIKE 'R%';\n",
    "\"\"\"))"
   ],
   "id": "4225a851a727d438",
   "outputs": [],
   "execution_count": null
  },
  {
   "metadata": {},
   "cell_type": "code",
   "source": [
    "print(select_query(\"\"\"\n",
    "SELECT * FROM Customers\n",
    "WHERE NOT Country = 'Spain';\n",
    "\"\"\"))"
   ],
   "id": "3464cc578f7665e3",
   "outputs": [],
   "execution_count": null
  },
  {
   "metadata": {},
   "cell_type": "code",
   "source": [
    "print(select_query(\"\"\"\n",
    "SELECT * FROM Customers\n",
    "WHERE CustomerName NOT LIKE 'A%';\n",
    "\"\"\"))"
   ],
   "id": "d0e3d579539b0969",
   "outputs": [],
   "execution_count": null
  },
  {
   "metadata": {},
   "cell_type": "code",
   "source": [
    "print(select_query(\"\"\"\n",
    "SELECT * FROM Customers\n",
    "WHERE CustomerID NOT BETWEEN 10 AND 60;\n",
    "\"\"\"))"
   ],
   "id": "9dbc10e428a1a475",
   "outputs": [],
   "execution_count": null
  },
  {
   "metadata": {},
   "cell_type": "code",
   "source": [
    "print(select_query(\"\"\"\n",
    "SELECT * FROM Customers\n",
    "WHERE City NOT IN ('Paris', 'London');\n",
    "\"\"\"))"
   ],
   "id": "5463dcb2fada9004",
   "outputs": [],
   "execution_count": null
  },
  {
   "metadata": {},
   "cell_type": "code",
   "source": [
    "print(select_query(\"\"\"\n",
    "SELECT * FROM Customers\n",
    "WHERE NOT CustomerID > 50;\n",
    "\"\"\"))"
   ],
   "id": "2f1f60cc1eefce93",
   "outputs": [],
   "execution_count": null
  },
  {
   "metadata": {},
   "cell_type": "code",
   "source": [
    "print(select_query(\"\"\"\n",
    "SELECT * FROM Customers\n",
    "WHERE NOT CustomerId < 50;\n",
    "\"\"\"))"
   ],
   "id": "73b226621a936cbe",
   "outputs": [],
   "execution_count": null
  },
  {
   "metadata": {},
   "cell_type": "markdown",
   "source": "",
   "id": "fe0672e7b8c13d7"
  },
  {
   "metadata": {},
   "cell_type": "code",
   "source": [
    "with sqlite3.connect(db_name) as conn:\n",
    "    cur = conn.cursor()\n",
    "    cur.execute(\"\"\"\n",
    "    INSERT INTO Customers (CustomerName, City, Country)\n",
    "            VALUES ('Cardinal', 'Stavanger', 'Norway');\n",
    "    \"\"\")\n",
    "    cur.execute(\"\"\"\n",
    "SELECT * FROM Customers ORDER BY CustomerID DESC\n",
    "LIMIT 1;\n",
    "\"\"\")\n",
    "    print(cur.fetchall())\n",
    "    conn.rollback()\n"
   ],
   "id": "899625376a7bf06f",
   "outputs": [],
   "execution_count": null
  },
  {
   "metadata": {},
   "cell_type": "code",
   "source": [
    "\n",
    "with sqlite3.connect(db_name) as conn:\n",
    "    cur = conn.cursor()\n",
    "    cur.execute(\"\"\"\n",
    "INSERT INTO Customers (CustomerName, ContactName, Address, City, PostalCode, Country)\n",
    "VALUES\n",
    "('Cardinal', 'Tom B. Erichsen', 'Skagen 21', 'Stavanger', '4006', 'Norway'),\n",
    "('Greasy Burger', 'Per Olsen', 'Gateveien 15', 'Sandnes', '4306', 'Norway'),\n",
    "('Tasty Tee', 'Finn Egan', 'Streetroad 19B', 'Liverpool', 'L1 0AA', 'UK');\n",
    "    \"\"\")\n",
    "    cur.execute(\"\"\"\n",
    "SELECT * FROM Customers ORDER BY CustomerID DESC\n",
    "LIMIT 5;\n",
    "\"\"\")\n",
    "    print(cur.fetchall())\n",
    "    conn.rollback()\n",
    "\n"
   ],
   "id": "a357a4df63b1a589",
   "outputs": [],
   "execution_count": null
  },
  {
   "metadata": {},
   "cell_type": "code",
   "source": [
    "print(select_query(\"\"\"\n",
    "SELECT CustomerName, ContactName, Address\n",
    "FROM Customers\n",
    "WHERE Address IS NULL;\n",
    "\"\"\"))"
   ],
   "id": "a6a2d58af91e3f02",
   "outputs": [],
   "execution_count": null
  },
  {
   "metadata": {},
   "cell_type": "code",
   "source": [
    "print(select_query(\"\"\"\n",
    "SELECT CustomerName, ContactName, Address\n",
    "FROM Customers\n",
    "WHERE Address IS NOT NULL;\n",
    "\"\"\"))"
   ],
   "id": "c1cf042a2fca7362",
   "outputs": [],
   "execution_count": null
  },
  {
   "metadata": {},
   "cell_type": "code",
   "source": [
    "with sqlite3.connect(db_name) as conn:\n",
    "    cur = conn.cursor()\n",
    "    cur.execute(\"\"\"\n",
    "UPDATE Customers\n",
    "SET ContactName = 'Alfred Schmidt', City= 'Frankfurt'\n",
    "WHERE CustomerID = 1;\n",
    "\"\"\")\n",
    "    cur.execute(\"\"\"\n",
    "SELECT * FROM Customers WHERE CustomerID =1;\n",
    "\"\"\")\n",
    "    print(cur.fetchall())\n",
    "    conn.rollback()"
   ],
   "id": "13594c6510c46cae",
   "outputs": [],
   "execution_count": null
  },
  {
   "metadata": {},
   "cell_type": "code",
   "source": [
    "with sqlite3.connect(db_name) as conn:\n",
    "    cur = conn.cursor()\n",
    "    cur.execute(\"\"\"\n",
    "UPDATE Customers\n",
    "SET ContactName='Juan'\n",
    "WHERE Country='Mexico';\n",
    "\"\"\")\n",
    "    cur.execute(\"\"\"\n",
    "SELECT * FROM Customers WHERE Country='Mexico';\n",
    "\"\"\")\n",
    "    print(cur.fetchall())\n",
    "    conn.rollback()"
   ],
   "id": "9df37a2c95251e03",
   "outputs": [],
   "execution_count": null
  },
  {
   "metadata": {},
   "cell_type": "code",
   "source": [
    "with sqlite3.connect(db_name) as conn:\n",
    "    cur = conn.cursor()\n",
    "    cur.execute(\"\"\"\n",
    "UPDATE Customers\n",
    "SET ContactName='Juan'\n",
    "\"\"\")\n",
    "    cur.execute(\"\"\"\n",
    "SELECT * FROM Customers WHERE ContactName!='Juan';\n",
    "\"\"\")\n",
    "    print(cur.fetchall())\n",
    "    conn.rollback()"
   ],
   "id": "f5923c6c9804469a",
   "outputs": [],
   "execution_count": null
  },
  {
   "metadata": {},
   "cell_type": "code",
   "source": [
    "with sqlite3.connect(db_name) as conn:\n",
    "    cur = conn.cursor()\n",
    "    cur.execute(\"\"\"\n",
    "SELECT * FROM Customers WHERE CustomerName='Alfreds Futterkiste';\n",
    "\"\"\")\n",
    "    print(cur.fetchall())\n",
    "    cur.execute(\"\"\"\n",
    "DELETE FROM Customers WHERE CustomerName='Alfreds Futterkiste';\n",
    "\"\"\")\n",
    "    cur.execute(\"\"\"\n",
    "SELECT * FROM Customers WHERE CustomerName='Alfreds Futterkiste';\n",
    "\"\"\")\n",
    "    print(cur.fetchall())\n",
    "    conn.rollback()"
   ],
   "id": "ca594f479d7818d0",
   "outputs": [],
   "execution_count": null
  },
  {
   "metadata": {},
   "cell_type": "code",
   "source": [
    "with sqlite3.connect(db_name) as conn:\n",
    "    cur = conn.cursor()\n",
    "    cur.execute(\"\"\"\n",
    "SELECT * FROM Customers;\n",
    "\"\"\")\n",
    "    print(cur.fetchall())\n",
    "    cur.execute(\"\"\"\n",
    "DELETE FROM Customers;\n",
    "\"\"\")\n",
    "    cur.execute(\"\"\"\n",
    "SELECT * FROM Customers;\n",
    "\"\"\")\n",
    "    print(cur.fetchall())\n",
    "    conn.rollback()"
   ],
   "id": "f6815267a86ec21b",
   "outputs": [],
   "execution_count": null
  },
  {
   "metadata": {},
   "cell_type": "code",
   "source": [
    "# with sqlite3.connect(db_name) as conn:\n",
    "#     cur = conn.cursor()\n",
    "#     cur.execute(\"\"\"\n",
    "# DROP TABLE Customers;\n",
    "# \"\"\")\n",
    "#     cur.execute(\"\"\"\n",
    "# SELECT * FROM Customers;\n",
    "# \"\"\")\n",
    "#     print(cur.fetchall())\n",
    "#     conn.rollback()"
   ],
   "id": "2d9d9b9a210a8572",
   "outputs": [],
   "execution_count": null
  },
  {
   "metadata": {},
   "cell_type": "code",
   "source": [
    "# print(select_query(\"\"\"\n",
    "# SELECT TOP 3 * FROM Customers;\n",
    "# \"\"\"))\n",
    "# TOP command does not work in sqlite"
   ],
   "id": "5eecb882e49da884",
   "outputs": [],
   "execution_count": null
  },
  {
   "metadata": {},
   "cell_type": "code",
   "source": [
    "print(select_query(\"\"\"\n",
    "SELECT * FROM Customers\n",
    "LIMIT 3;\n",
    "\"\"\"))"
   ],
   "id": "cbc3fc02f76879ed",
   "outputs": [],
   "execution_count": null
  },
  {
   "metadata": {},
   "cell_type": "code",
   "source": [
    "# print(select_query(\"\"\"\n",
    "# SELECT * FROM Customers\n",
    "# FETCH FIRST 3 ROWS ONLY;\n",
    "# \"\"\"))"
   ],
   "id": "342b096aa30dfc71",
   "outputs": [],
   "execution_count": null
  },
  {
   "metadata": {},
   "cell_type": "code",
   "source": [
    "print(select_query(\"\"\"\n",
    "SELECT MIN(Price)\n",
    "FROM Products;\n",
    "\"\"\"))"
   ],
   "id": "db9ab9863427f46f",
   "outputs": [],
   "execution_count": null
  },
  {
   "metadata": {},
   "cell_type": "code",
   "source": [
    "print(select_query(\"\"\"\n",
    "SELECT MAX(Price)\n",
    "FROM Products;\n",
    "\"\"\"))"
   ],
   "id": "73cc751ae002af6a",
   "outputs": [],
   "execution_count": null
  },
  {
   "metadata": {},
   "cell_type": "code",
   "source": [
    "print(select_query(\"\"\"\n",
    "SELECT MIN(Price) AS SmallestPrice\n",
    "FROM Products;\n",
    "\"\"\"))"
   ],
   "id": "f3abfa4efa56c5a5",
   "outputs": [],
   "execution_count": null
  },
  {
   "metadata": {},
   "cell_type": "code",
   "source": [
    "print(select_query(\"\"\"\n",
    "SELECT MIN(Price) AS SmallestPrice, CategoryID\n",
    "FROM Products\n",
    "GROUP BY CategoryID;\n",
    "\"\"\"))"
   ],
   "id": "64496e306d7f0773",
   "outputs": [],
   "execution_count": null
  },
  {
   "metadata": {},
   "cell_type": "code",
   "source": [
    "print(select_query(\"\"\"\n",
    "SELECT COUNT(*)\n",
    "FROM Products;\n",
    "\"\"\"))"
   ],
   "id": "b3c6b1a4f6457c82",
   "outputs": [],
   "execution_count": null
  },
  {
   "metadata": {},
   "cell_type": "code",
   "source": [
    "print(select_query(\"\"\"\n",
    "SELECT COUNT(ProductID)\n",
    "FROM Products\n",
    "WHERE Price > 20;\n",
    "\"\"\"))"
   ],
   "id": "1007e13f96807ec8",
   "outputs": [],
   "execution_count": null
  },
  {
   "metadata": {},
   "cell_type": "code",
   "source": [
    "print(select_query(\"\"\"\n",
    "SELECT COUNT(DISTINCT Price)\n",
    "FROM Products;\n",
    "\"\"\"))"
   ],
   "id": "5319aa253b4a2cbc",
   "outputs": [],
   "execution_count": null
  },
  {
   "metadata": {},
   "cell_type": "code",
   "source": [
    "print(select_query(\"\"\"\n",
    "SELECT COUNT(*) AS [Number of records], CategoryID\n",
    "FROM Products\n",
    "GROUP BY CategoryID;\n",
    "\"\"\"))"
   ],
   "id": "9062082a0c4082e",
   "outputs": [],
   "execution_count": null
  },
  {
   "metadata": {},
   "cell_type": "code",
   "source": [
    "print(select_query(\"\"\"\n",
    "SELECT SUM(Quantity)\n",
    "FROM OrderDetails;\n",
    "\"\"\"))"
   ],
   "id": "3d0392074d21ef24",
   "outputs": [],
   "execution_count": null
  },
  {
   "metadata": {},
   "cell_type": "code",
   "source": [
    "print(select_query(\"\"\"\n",
    "SELECT SUM(Quantity)\n",
    "FROM OrderDetails\n",
    "WHERE ProductId = 11;\n",
    "\"\"\"))"
   ],
   "id": "5f96bbd0f5fec6e9",
   "outputs": [],
   "execution_count": null
  },
  {
   "metadata": {},
   "cell_type": "code",
   "source": [
    "print(select_query(\"\"\"\n",
    "SELECT SUM(Quantity) AS total\n",
    "FROM OrderDetails;\n",
    "\"\"\"))"
   ],
   "id": "347399780d46aba2",
   "outputs": [],
   "execution_count": null
  },
  {
   "metadata": {},
   "cell_type": "code",
   "source": [
    "print(select_query(\"\"\"\n",
    "SELECT OrderID, SUM(Quantity) AS [Total Quantity]\n",
    "FROM OrderDetails\n",
    "GROUP BY OrderID;\n",
    "\"\"\"))"
   ],
   "id": "a7db7d9992820ee",
   "outputs": [],
   "execution_count": null
  },
  {
   "metadata": {},
   "cell_type": "code",
   "source": [
    "print(select_query(\"\"\"\n",
    "SELECT SUM(Quantity * 10)\n",
    "FROM OrderDetails;\n",
    "\"\"\"))"
   ],
   "id": "dbee0950007a5e5d",
   "outputs": [],
   "execution_count": null
  },
  {
   "metadata": {},
   "cell_type": "code",
   "source": [
    "print(select_query(\"\"\"\n",
    "SELECT SUM(Price * Quantity)\n",
    "FROM OrderDetails\n",
    "LEFT JOIN Products ON OrderDetails.ProductID = Products.ProductID;\n",
    "\"\"\"))"
   ],
   "id": "7adf7f82dd1f2c25",
   "outputs": [],
   "execution_count": null
  },
  {
   "metadata": {},
   "cell_type": "code",
   "source": [
    "print(select_query(\"\"\"\n",
    "SELECT AVG(Price)\n",
    "FROM Products;\n",
    "\"\"\"))"
   ],
   "id": "655b354b2c82acf8",
   "outputs": [],
   "execution_count": null
  },
  {
   "metadata": {},
   "cell_type": "code",
   "source": [
    "print(select_query(\"\"\"\n",
    "SELECT AVG(Price)\n",
    "FROM Products\n",
    "WHERE CategoryID = 1;\n",
    "\"\"\"))"
   ],
   "id": "644dabe7606ca74f",
   "outputs": [],
   "execution_count": null
  },
  {
   "metadata": {},
   "cell_type": "code",
   "source": [
    "print(select_query(\"\"\"\n",
    "SELECT AVG(Price) AS [average price]\n",
    "FROM Products;\n",
    "\"\"\"))"
   ],
   "id": "b3237552617a0fb9",
   "outputs": [],
   "execution_count": null
  },
  {
   "metadata": {},
   "cell_type": "code",
   "source": [
    "print(select_query(\"\"\"\n",
    "SELECT * FROM Products\n",
    "WHERE price > (SELECT AVG(price) FROM Products);\n",
    "\"\"\"))"
   ],
   "id": "e5a8f0ecba4a5b23",
   "outputs": [],
   "execution_count": null
  },
  {
   "metadata": {},
   "cell_type": "code",
   "source": [
    "print(select_query(\"\"\"\n",
    "SELECT AVG(Price) AS AveragePrice, CategoryID\n",
    "FROM Products\n",
    "GROUP BY CategoryID;\n",
    "\"\"\"))"
   ],
   "id": "ebb7d553d9afefb8",
   "outputs": [],
   "execution_count": null
  },
  {
   "metadata": {},
   "cell_type": "code",
   "source": [
    "print(select_query(\"\"\"\n",
    "SELECT * FROM Customers\n",
    "WHERE CustomerName LIKE 'a%';\n",
    "\"\"\"))"
   ],
   "id": "79fcf747d3c7be5a",
   "outputs": [],
   "execution_count": null
  },
  {
   "metadata": {},
   "cell_type": "code",
   "source": [
    "print(select_query(\"\"\"\n",
    "SELECT * FROM Customers\n",
    "WHERE city LIKE 'L_nd__';\n",
    "\"\"\"))"
   ],
   "id": "924e4ff1d1dab19f",
   "outputs": [],
   "execution_count": null
  },
  {
   "metadata": {},
   "cell_type": "code",
   "source": [
    "print(select_query(\"\"\"\n",
    "SELECT * FROM Customers\n",
    "WHERE city LIKE '%L%';\n",
    "\"\"\"))"
   ],
   "id": "24b846ac21fea82",
   "outputs": [],
   "execution_count": null
  },
  {
   "metadata": {},
   "cell_type": "code",
   "source": [
    "print(select_query(\"\"\"\n",
    "SELECT * FROM Customers\n",
    "WHERE CustomerName LIKE 'La%';\n",
    "\"\"\"))"
   ],
   "id": "2fdd710a3a36393e",
   "outputs": [],
   "execution_count": null
  },
  {
   "metadata": {},
   "cell_type": "code",
   "source": [
    "print(select_query(\"\"\"\n",
    "SELECT * FROM Customers\n",
    "WHERE CustomerName LIKE 'a%' OR CustomerName LIKE 'b%';\n",
    "\"\"\"))"
   ],
   "id": "daa32f880d426571",
   "outputs": [],
   "execution_count": null
  },
  {
   "metadata": {},
   "cell_type": "code",
   "source": [
    "print(select_query(\"\"\"\n",
    "SELECT * FROM Customers\n",
    "WHERE CustomerName LIKE '%a';\n",
    "\"\"\"))"
   ],
   "id": "f268df56d8fa52e8",
   "outputs": [],
   "execution_count": null
  },
  {
   "metadata": {},
   "cell_type": "code",
   "source": [
    "print(select_query(\"\"\"\n",
    "SELECT * FROM Customers\n",
    "WHERE CustomerName LIKE 'b%s';\n",
    "\"\"\"))"
   ],
   "id": "ee66292ccf48dc59",
   "outputs": [],
   "execution_count": null
  },
  {
   "metadata": {},
   "cell_type": "code",
   "source": [
    "print(select_query(\"\"\"\n",
    "SELECT * FROM Customers\n",
    "WHERE CustomerName LIKE 'a%';\n",
    "\"\"\"))"
   ],
   "id": "69bc6a3abf833027",
   "outputs": [],
   "execution_count": null
  },
  {
   "metadata": {},
   "cell_type": "code",
   "source": [
    "print(select_query(\"\"\"\n",
    "SELECT * FROM Customers\n",
    "WHERE CustomerName LIKE '%es';\n",
    "\"\"\"))"
   ],
   "id": "8b2f00612912771",
   "outputs": [],
   "execution_count": null
  },
  {
   "metadata": {},
   "cell_type": "code",
   "source": [
    "print(select_query(\"\"\"\n",
    "SELECT * FROM Customers\n",
    "WHERE CustomerName LIKE '%mer%';\n",
    "\"\"\"))"
   ],
   "id": "8ac7a49db607664d",
   "outputs": [],
   "execution_count": null
  },
  {
   "metadata": {},
   "cell_type": "code",
   "source": [
    "print(select_query(\"\"\"\n",
    "SELECT * FROM Customers\n",
    "WHERE City LIKE '_ondon';\n",
    "\"\"\"))"
   ],
   "id": "82b6d22582f44c3",
   "outputs": [],
   "execution_count": null
  },
  {
   "metadata": {},
   "cell_type": "code",
   "source": [
    "print(select_query(\"\"\"\n",
    "SELECT * FROM Customers\n",
    "WHERE City LIKE 'L___on';\n",
    "\"\"\"))"
   ],
   "id": "18442387ad1233a7",
   "outputs": [],
   "execution_count": null
  },
  {
   "metadata": {},
   "cell_type": "code",
   "source": [
    "print(select_query(\"\"\"\n",
    "SELECT * FROM Customers\n",
    "WHERE CustomerName LIKE '[bsp]%';\n",
    "\"\"\"))\n",
    "#Does not work in sqlite"
   ],
   "id": "b90a312f67a30ab6",
   "outputs": [],
   "execution_count": null
  },
  {
   "metadata": {},
   "cell_type": "code",
   "source": [
    "print(select_query(\"\"\"\n",
    "SELECT * FROM Customers\n",
    "WHERE Country IN ('Germany', 'France', 'UK');\n",
    "\"\"\"))"
   ],
   "id": "a8588cc41807c286",
   "outputs": [],
   "execution_count": null
  },
  {
   "metadata": {},
   "cell_type": "code",
   "source": [
    "print(select_query(\"\"\"\n",
    "SELECT * FROM Customers\n",
    "WHERE Country NOT IN ('Germany', 'France', 'UK');\n",
    "\"\"\"))"
   ],
   "id": "bf6f2aa2fc89005c",
   "outputs": [],
   "execution_count": null
  },
  {
   "metadata": {},
   "cell_type": "code",
   "source": [
    "print(select_query(\"\"\"\n",
    "SELECT * FROM Customers\n",
    "WHERE CustomerID IN (SELECT CustomerID FROM Orders);\n",
    "\"\"\"))"
   ],
   "id": "a454cce92609e589",
   "outputs": [],
   "execution_count": null
  },
  {
   "metadata": {},
   "cell_type": "code",
   "source": [
    "print(select_query(\"\"\"\n",
    "SELECT * FROM Customers\n",
    "WHERE CustomerID NOT IN (SELECT CustomerID FROM Orders);\n",
    "\"\"\"))"
   ],
   "id": "e94fcdf0cd5c69df",
   "outputs": [],
   "execution_count": null
  },
  {
   "metadata": {},
   "cell_type": "code",
   "source": [
    "print(select_query(\"\"\"\n",
    "SELECT * FROM Products\n",
    "WHERE Price BETWEEN 10 AND 20;\n",
    "\"\"\"))"
   ],
   "id": "518f3252bc2a009c",
   "outputs": [],
   "execution_count": null
  },
  {
   "metadata": {},
   "cell_type": "code",
   "source": [
    "print(select_query(\"\"\"\n",
    "SELECT * FROM Products\n",
    "WHERE Price BETWEEN 10 AND 20\n",
    "AND CategoryID IN (1,2,3);\n",
    "\"\"\"))"
   ],
   "id": "4d9de5a23e9b71c",
   "outputs": [],
   "execution_count": null
  },
  {
   "metadata": {},
   "cell_type": "code",
   "source": [
    "print(select_query(\"\"\"\n",
    "SELECT * FROM Products\n",
    "WHERE ProductName BETWEEN 'Carnarvon Tigers' AND 'Mozzarella di Giovanni'\n",
    "ORDER BY ProductName;\n",
    "\"\"\"))"
   ],
   "id": "b4c12f70266b4fc9",
   "outputs": [],
   "execution_count": null
  },
  {
   "metadata": {},
   "cell_type": "code",
   "source": [
    "print(select_query(\"\"\"\n",
    "SELECT * FROM Products\n",
    "WHERE ProductName BETWEEN \"Carnarvon Tigers\" AND \"Chef Anton's Cajun Seasoning\"\n",
    "ORDER BY ProductName;\n",
    "\"\"\"))"
   ],
   "id": "ce7f7dfa3196eb90",
   "outputs": [],
   "execution_count": null
  },
  {
   "metadata": {},
   "cell_type": "code",
   "source": [
    "print(select_query(\"\"\"\n",
    "SELECT * FROM Orders\n",
    "WHERE OrderDate BETWEEN '1996-07-01' AND '1996-07-31';\n",
    "\"\"\"))"
   ],
   "id": "5913f438b3d3711e",
   "outputs": [],
   "execution_count": null
  },
  {
   "metadata": {},
   "cell_type": "code",
   "source": [
    "print(select_query(\"\"\"\n",
    "SELECT CustomerName, Address + ', ' + PostalCode + ' ' + City + ', ' + Country AS Address\n",
    "FROM Customers;\n",
    "\"\"\"))\n",
    "#Does not work"
   ],
   "id": "6b425ade2723484a",
   "outputs": [],
   "execution_count": null
  },
  {
   "metadata": {},
   "cell_type": "code",
   "source": [
    "print(select_query(\"\"\"\n",
    "SELECT Orders.OrderID, Customers.CustomerName, Orders.OrderDate\n",
    "FROM Orders\n",
    "INNER JOIN Customers ON Orders.CustomerID=Customers.CustomerID;\n",
    "\"\"\"))"
   ],
   "id": "f7db46efed17d8c2",
   "outputs": [],
   "execution_count": null
  },
  {
   "metadata": {},
   "cell_type": "code",
   "source": [
    "print(select_query(\"\"\"\n",
    "SELECT ProductID, ProductName, CategoryName\n",
    "FROM Products\n",
    "INNER JOIN Categories ON Products.CategoryID = Categories.CategoryID;\n",
    "\"\"\"))"
   ],
   "id": "32f473e1795ba44a",
   "outputs": [],
   "execution_count": null
  },
  {
   "metadata": {},
   "cell_type": "code",
   "source": [
    "print(select_query(\"\"\"\n",
    "SELECT Orders.OrderID, Customers.CustomerName, Shippers.ShipperName\n",
    "FROM ((Orders\n",
    "INNER JOIN Customers ON Orders.CustomerID = Customers.CustomerID)\n",
    "INNER JOIN Shippers ON Orders.ShipperID = Shippers.ShipperID);\n",
    "\"\"\"))"
   ],
   "id": "fa6073929a9967e9",
   "outputs": [],
   "execution_count": null
  },
  {
   "metadata": {},
   "cell_type": "code",
   "source": [
    "print(select_query(\"\"\"\n",
    "SELECT Customers.CustomerName, Orders.OrderID\n",
    "FROM Customers\n",
    "LEFT JOIN Orders ON Customers.CustomerID = Orders.CustomerID\n",
    "ORDER BY Customers.CustomerName;\n",
    "\"\"\"))"
   ],
   "id": "53c6d0f4c345c6a3",
   "outputs": [],
   "execution_count": null
  },
  {
   "metadata": {},
   "cell_type": "code",
   "source": [
    "print(select_query(\"\"\"\n",
    "SELECT Orders.OrderID, Employees.LastName, Employees.FirstName\n",
    "FROM Orders\n",
    "RIGHT JOIN Employees ON Orders.EmployeeID = Employees.EmployeeID\n",
    "ORDER BY Orders.OrderID;\n",
    "\"\"\"))"
   ],
   "id": "ed73b07ad40840e6",
   "outputs": [],
   "execution_count": null
  },
  {
   "metadata": {},
   "cell_type": "code",
   "source": [
    "print(select_query(\"\"\"\n",
    "SELECT Customers.CustomerName, Orders.OrderID\n",
    "FROM Customers\n",
    "FULL OUTER JOIN Orders ON Customers.CustomerID=Orders.CustomerID\n",
    "ORDER BY Customers.CustomerName;\n",
    "\"\"\"))"
   ],
   "id": "43909f8e60d886ef",
   "outputs": [],
   "execution_count": null
  },
  {
   "metadata": {},
   "cell_type": "code",
   "source": [
    "print(select_query(\"\"\"\n",
    "SELECT A.CustomerName AS CustomerName1, B.CustomerName AS CustomerName2, A.City\n",
    "FROM Customers A, Customers B\n",
    "WHERE A.CustomerID <> B.CustomerID\n",
    "AND A.City = B.City\n",
    "ORDER BY A.City;\n",
    "\"\"\"))"
   ],
   "id": "e62d0a4c6e0e7f08",
   "outputs": [],
   "execution_count": null
  },
  {
   "metadata": {},
   "cell_type": "code",
   "source": [
    "print(select_query(\"\"\"\n",
    "SELECT City FROM Customers\n",
    "UNION\n",
    "SELECT City FROM Suppliers\n",
    "ORDER BY City;\n",
    "\"\"\"))"
   ],
   "id": "f29d0f8b8420703a",
   "outputs": [],
   "execution_count": null
  },
  {
   "metadata": {},
   "cell_type": "code",
   "source": [
    "print(select_query(\"\"\"\n",
    "SELECT City, Country FROM Customers\n",
    "WHERE Country='Germany'\n",
    "UNION ALL\n",
    "SELECT City, Country FROM Suppliers\n",
    "WHERE Country='Germany'\n",
    "ORDER BY City;\n",
    "\"\"\"))"
   ],
   "id": "97ccf483d9dd3579",
   "outputs": [],
   "execution_count": null
  },
  {
   "metadata": {},
   "cell_type": "code",
   "source": [
    "print(select_query(\"\"\"\n",
    "SELECT COUNT(CustomerID), Country\n",
    "FROM Customers\n",
    "GROUP BY Country;\n",
    "\"\"\"))"
   ],
   "id": "e8ee3255413ba132",
   "outputs": [],
   "execution_count": null
  },
  {
   "metadata": {},
   "cell_type": "code",
   "source": [
    "print(select_query(\"\"\"\n",
    "SELECT COUNT(CustomerID), Country\n",
    "FROM Customers\n",
    "GROUP BY Country\n",
    "ORDER BY COUNT(CustomerID) DESC;\n",
    "\"\"\"))"
   ],
   "id": "69475f3a3986a8a",
   "outputs": [],
   "execution_count": null
  },
  {
   "metadata": {},
   "cell_type": "code",
   "source": [
    "print(select_query(\"\"\"\n",
    "SELECT Shippers.ShipperName, COUNT(Orders.OrderID) AS NumberOfOrders FROM Orders\n",
    "LEFT JOIN Shippers ON Orders.ShipperID = Shippers.ShipperID\n",
    "GROUP BY ShipperName;\n",
    "\"\"\"))"
   ],
   "id": "a7b162b0c2903609",
   "outputs": [],
   "execution_count": null
  },
  {
   "metadata": {},
   "cell_type": "code",
   "source": [
    "print(select_query(\"\"\"\n",
    "SELECT COUNT(CustomerID), Country\n",
    "FROM Customers\n",
    "GROUP BY Country\n",
    "HAVING COUNT(CustomerID) > 5;\n",
    "\"\"\"))"
   ],
   "id": "384b5be54ca641b8",
   "outputs": [],
   "execution_count": null
  },
  {
   "metadata": {},
   "cell_type": "code",
   "source": [
    "print(select_query(\"\"\"\n",
    "SELECT Employees.LastName, COUNT(Orders.OrderID) AS NumberOfOrders\n",
    "FROM Orders\n",
    "INNER JOIN Employees ON Orders.EmployeeID = Employees.EmployeeID\n",
    "WHERE LastName = 'Davolio' OR LastName = 'Fuller'\n",
    "GROUP BY LastName\n",
    "HAVING COUNT(Orders.OrderID) > 25;\n",
    "\"\"\"))"
   ],
   "id": "f0e9839b723a0a0",
   "outputs": [],
   "execution_count": null
  },
  {
   "metadata": {},
   "cell_type": "code",
   "source": [
    "print(select_query(\"\"\"\n",
    "SELECT SupplierName\n",
    "FROM Suppliers\n",
    "WHERE EXISTS (SELECT ProductName FROM Products WHERE Products.SupplierID = Suppliers.supplierID AND Price < 20);\n",
    "\"\"\"))"
   ],
   "id": "ff23ef875caed6b1",
   "outputs": [],
   "execution_count": null
  },
  {
   "metadata": {},
   "cell_type": "code",
   "source": [
    "print(select_query(\"\"\"\n",
    "SELECT SupplierName\n",
    "FROM Suppliers\n",
    "WHERE EXISTS (SELECT ProductName FROM Products WHERE Products.SupplierID = Suppliers.supplierID AND Price = 22);\n",
    "\"\"\"))"
   ],
   "id": "743859d9b7cc59d7",
   "outputs": [],
   "execution_count": null
  },
  {
   "metadata": {},
   "cell_type": "code",
   "source": [
    "print(select_query(\"\"\"\n",
    "SELECT ProductName\n",
    "FROM Products\n",
    "WHERE ProductID = ANY\n",
    "  (SELECT ProductID\n",
    "  FROM OrderDetails\n",
    "  WHERE Quantity = 10);\n",
    "\"\"\"))"
   ],
   "id": "50300da4b4b905c",
   "outputs": [],
   "execution_count": null
  },
  {
   "metadata": {},
   "cell_type": "code",
   "source": [
    "print(select_query(\"\"\"\n",
    "SELECT ALL ProductName\n",
    "FROM Products\n",
    "WHERE TRUE;\n",
    "\"\"\"))"
   ],
   "id": "ac5c237ac41c5607",
   "outputs": [],
   "execution_count": null
  },
  {
   "metadata": {},
   "cell_type": "code",
   "source": [
    "print(select_query(\"\"\"\n",
    "SELECT * INTO CustomersBackup2017\n",
    "FROM Customers;\n",
    "\"\"\"))\n",
    "#Does not work"
   ],
   "id": "404282d45eb354b3",
   "outputs": [],
   "execution_count": null
  },
  {
   "metadata": {},
   "cell_type": "code",
   "source": [
    "print(select_query(\"\"\"\n",
    "SELECT OrderID, Quantity,\n",
    "CASE\n",
    "    WHEN Quantity > 30 THEN 'The quantity is greater than 30'\n",
    "    WHEN Quantity = 30 THEN 'The quantity is 30'\n",
    "    ELSE 'The quantity is under 30'\n",
    "END AS QuantityText\n",
    "FROM OrderDetails;\n",
    "\"\"\"))"
   ],
   "id": "edbf141a5b6cf02d",
   "outputs": [],
   "execution_count": null
  },
  {
   "metadata": {
    "ExecuteTime": {
     "end_time": "2024-07-03T02:38:42.466453Z",
     "start_time": "2024-07-03T02:38:42.464175Z"
    }
   },
   "cell_type": "code",
   "source": "",
   "id": "8fe87d390604d674",
   "outputs": [
    {
     "name": "stdout",
     "output_type": "stream",
     "text": [
      "near \"Order\": syntax error\n",
      "None\n"
     ]
    }
   ],
   "execution_count": 577
  },
  {
   "metadata": {},
   "cell_type": "code",
   "source": "",
   "id": "768844eed8916c11",
   "outputs": [],
   "execution_count": null
  }
 ],
 "metadata": {
  "kernelspec": {
   "display_name": "Python 3",
   "language": "python",
   "name": "python3"
  },
  "language_info": {
   "codemirror_mode": {
    "name": "ipython",
    "version": 2
   },
   "file_extension": ".py",
   "mimetype": "text/x-python",
   "name": "python",
   "nbconvert_exporter": "python",
   "pygments_lexer": "ipython2",
   "version": "2.7.6"
  }
 },
 "nbformat": 4,
 "nbformat_minor": 5
}
